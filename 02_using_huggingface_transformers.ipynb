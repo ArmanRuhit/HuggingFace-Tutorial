{
 "cells": [
  {
   "cell_type": "markdown",
   "id": "e98bc61a",
   "metadata": {},
   "source": [
    "## Behind the pipeline"
   ]
  },
  {
   "cell_type": "code",
   "execution_count": 3,
   "id": "bc6eba14",
   "metadata": {
    "collapsed": true
   },
   "outputs": [
    {
     "name": "stderr",
     "output_type": "stream",
     "text": [
      "No model was supplied, defaulted to distilbert-base-uncased-finetuned-sst-2-english and revision af0f99b (https://huggingface.co/distilbert-base-uncased-finetuned-sst-2-english).\n",
      "Using a pipeline without specifying a model name and revision in production is not recommended.\n"
     ]
    },
    {
     "data": {
      "application/vnd.jupyter.widget-view+json": {
       "model_id": "3f47a5a57e4947f7b40611be3cc55d9b",
       "version_major": 2,
       "version_minor": 0
      },
      "text/plain": [
       "Downloading (…)lve/main/config.json:   0%|          | 0.00/629 [00:00<?, ?B/s]"
      ]
     },
     "metadata": {},
     "output_type": "display_data"
    },
    {
     "name": "stderr",
     "output_type": "stream",
     "text": [
      "C:\\Users\\arman\\anaconda3\\Lib\\site-packages\\huggingface_hub\\file_download.py:133: UserWarning: `huggingface_hub` cache-system uses symlinks by default to efficiently store duplicated files but your machine does not support them in C:\\Users\\arman\\.cache\\huggingface\\hub. Caching files will still work but in a degraded version that might require more space on your disk. This warning can be disabled by setting the `HF_HUB_DISABLE_SYMLINKS_WARNING` environment variable. For more details, see https://huggingface.co/docs/huggingface_hub/how-to-cache#limitations.\n",
      "To support symlinks on Windows, you either need to activate Developer Mode or to run Python as an administrator. In order to see activate developer mode, see this article: https://docs.microsoft.com/en-us/windows/apps/get-started/enable-your-device-for-development\n",
      "  warnings.warn(message)\n"
     ]
    },
    {
     "data": {
      "application/vnd.jupyter.widget-view+json": {
       "model_id": "89ca6d13d43c4aaab588952630dcea9e",
       "version_major": 2,
       "version_minor": 0
      },
      "text/plain": [
       "Downloading model.safetensors:   0%|          | 0.00/268M [00:00<?, ?B/s]"
      ]
     },
     "metadata": {},
     "output_type": "display_data"
    },
    {
     "data": {
      "application/vnd.jupyter.widget-view+json": {
       "model_id": "74d0fb961e644008abc8c9110856e74c",
       "version_major": 2,
       "version_minor": 0
      },
      "text/plain": [
       "Downloading (…)okenizer_config.json:   0%|          | 0.00/48.0 [00:00<?, ?B/s]"
      ]
     },
     "metadata": {},
     "output_type": "display_data"
    },
    {
     "data": {
      "application/vnd.jupyter.widget-view+json": {
       "model_id": "1b93dfbc8db54102b26ae65e30428ed4",
       "version_major": 2,
       "version_minor": 0
      },
      "text/plain": [
       "Downloading (…)solve/main/vocab.txt:   0%|          | 0.00/232k [00:00<?, ?B/s]"
      ]
     },
     "metadata": {},
     "output_type": "display_data"
    },
    {
     "data": {
      "text/plain": [
       "[{'label': 'POSITIVE', 'score': 0.9987958669662476},\n",
       " {'label': 'NEGATIVE', 'score': 0.9995144605636597}]"
      ]
     },
     "execution_count": 3,
     "metadata": {},
     "output_type": "execute_result"
    }
   ],
   "source": [
    "# pipeline code example\n",
    "from transformers import pipeline\n",
    "classifier = pipeline(\"sentiment-analysis\")\n",
    "\n",
    "classifier([\n",
    "    'I have been waiting for hugging face course my whole life',\n",
    "    'I hate this so much'\n",
    "])"
   ]
  },
  {
   "cell_type": "markdown",
   "id": "45ba773f",
   "metadata": {},
   "source": [
    "# Tokenizer example"
   ]
  },
  {
   "cell_type": "code",
   "execution_count": 3,
   "id": "45616071",
   "metadata": {},
   "outputs": [],
   "source": [
    "from transformers import AutoTokenizer\n",
    "\n",
    "checkpoint=\"distilbert-base-uncased-finetuned-sst-2-english\"\n",
    "tokenizer = AutoTokenizer.from_pretrained(checkpoint)"
   ]
  },
  {
   "cell_type": "code",
   "execution_count": 4,
   "id": "c70318c9",
   "metadata": {},
   "outputs": [
    {
     "name": "stdout",
     "output_type": "stream",
     "text": [
      "{'input_ids': <tf.Tensor: shape=(2, 13), dtype=int32, numpy=\n",
      "array([[  101,  1045,  2031,  2042,  3403,  2005, 17662,  2227,  2607,\n",
      "         2026,  2878,  2166,   102],\n",
      "       [  101,  1045,  5223,  2023,  2061,  2172,   102,     0,     0,\n",
      "            0,     0,     0,     0]])>, 'attention_mask': <tf.Tensor: shape=(2, 13), dtype=int32, numpy=\n",
      "array([[1, 1, 1, 1, 1, 1, 1, 1, 1, 1, 1, 1, 1],\n",
      "       [1, 1, 1, 1, 1, 1, 1, 0, 0, 0, 0, 0, 0]])>}\n"
     ]
    }
   ],
   "source": [
    "raw_inputs = [\n",
    "    'I have been waiting for hugging face course my whole life',\n",
    "    'I hate this so much'\n",
    "]\n",
    "\n",
    "inputs = tokenizer(raw_inputs, padding=True, truncation=True, return_tensors=\"tf\")\n",
    "print(inputs)"
   ]
  },
  {
   "cell_type": "markdown",
   "id": "3dfd3043",
   "metadata": {},
   "source": [
    "# Model Example"
   ]
  },
  {
   "cell_type": "code",
   "execution_count": 1,
   "id": "5fe47d40",
   "metadata": {},
   "outputs": [
    {
     "name": "stderr",
     "output_type": "stream",
     "text": [
      "Some weights of the PyTorch model were not used when initializing the TF 2.0 model TFDistilBertModel: ['classifier.weight', 'pre_classifier.weight', 'classifier.bias', 'pre_classifier.bias']\n",
      "- This IS expected if you are initializing TFDistilBertModel from a PyTorch model trained on another task or with another architecture (e.g. initializing a TFBertForSequenceClassification model from a BertForPreTraining model).\n",
      "- This IS NOT expected if you are initializing TFDistilBertModel from a PyTorch model that you expect to be exactly identical (e.g. initializing a TFBertForSequenceClassification model from a BertForSequenceClassification model).\n",
      "All the weights of TFDistilBertModel were initialized from the PyTorch model.\n",
      "If your task is similar to the task the model of the checkpoint was trained on, you can already use TFDistilBertModel for predictions without further training.\n"
     ]
    }
   ],
   "source": [
    "from transformers import TFAutoModel\n",
    "\n",
    "checkpoint=\"distilbert-base-uncased-finetuned-sst-2-english\"\n",
    "model = TFAutoModel.from_pretrained(checkpoint)"
   ]
  },
  {
   "cell_type": "code",
   "execution_count": 5,
   "id": "a68ddbec",
   "metadata": {
    "collapsed": true
   },
   "outputs": [
    {
     "name": "stdout",
     "output_type": "stream",
     "text": [
      "TFBaseModelOutput(last_hidden_state=<tf.Tensor: shape=(2, 13, 768), dtype=float32, numpy=\n",
      "array([[[ 0.10004615,  0.08926946,  0.6018838 , ..., -0.04704958,\n",
      "          0.5371728 , -0.39642936],\n",
      "        [ 0.49409273,  0.4537986 ,  0.3672404 , ...,  0.12324937,\n",
      "          0.6759264 , -0.24971434],\n",
      "        [ 0.564472  ,  0.51474637,  0.17395115, ...,  0.02975993,\n",
      "          0.5080044 , -0.21472351],\n",
      "        ...,\n",
      "        [ 0.5826182 ,  0.23295236,  0.35156295, ..., -0.22303683,\n",
      "          0.70681447, -0.45775637],\n",
      "        [ 0.561423  ,  0.38966078,  0.37009525, ..., -0.11075118,\n",
      "          0.5787301 , -0.3207711 ],\n",
      "        [ 0.6985472 ,  0.21465364,  0.3985237 , ...,  0.42147446,\n",
      "          0.34449214, -0.9425872 ]],\n",
      "\n",
      "       [[-0.30882236,  0.7331757 , -0.18604988, ..., -0.13053825,\n",
      "         -0.93600386, -0.04329733],\n",
      "        [-0.33396998,  0.9830432 , -0.09462059, ..., -0.3824745 ,\n",
      "         -0.61756295,  0.20076862],\n",
      "        [-0.1687141 ,  0.8781159 , -0.11165855, ..., -0.23800479,\n",
      "         -0.7789948 ,  0.09345241],\n",
      "        ...,\n",
      "        [-0.2724004 ,  0.7306909 , -0.23666903, ..., -0.09285554,\n",
      "         -0.7367031 , -0.04438533],\n",
      "        [-0.29209757,  0.76640195, -0.21557802, ..., -0.11260138,\n",
      "         -0.7472232 , -0.02827233],\n",
      "        [-0.30219963,  0.8104509 , -0.16935158, ..., -0.11236101,\n",
      "         -0.7401384 , -0.05429744]]], dtype=float32)>, hidden_states=None, attentions=None)\n",
      "(2, 13, 768)\n"
     ]
    }
   ],
   "source": [
    "outputs = model(inputs)\n",
    "print(outputs)\n",
    "print(outputs.last_hidden_state.shape)"
   ]
  },
  {
   "cell_type": "code",
   "execution_count": 6,
   "id": "672fc21b",
   "metadata": {},
   "outputs": [
    {
     "name": "stderr",
     "output_type": "stream",
     "text": [
      "All PyTorch model weights were used when initializing TFDistilBertForSequenceClassification.\n",
      "\n",
      "All the weights of TFDistilBertForSequenceClassification were initialized from the PyTorch model.\n",
      "If your task is similar to the task the model of the checkpoint was trained on, you can already use TFDistilBertForSequenceClassification for predictions without further training.\n"
     ]
    },
    {
     "name": "stdout",
     "output_type": "stream",
     "text": [
      "(2, 2)\n"
     ]
    }
   ],
   "source": [
    "## example huggingface architecture\n",
    "from transformers import TFAutoModelForSequenceClassification\n",
    "checkpoint=\"distilbert-base-uncased-finetuned-sst-2-english\"\n",
    "model = TFAutoModelForSequenceClassification.from_pretrained(checkpoint)\n",
    "outputs = model(inputs)\n",
    "print(outputs.logits.shape)\n"
   ]
  },
  {
   "cell_type": "code",
   "execution_count": 7,
   "id": "8b7312e6",
   "metadata": {},
   "outputs": [
    {
     "name": "stdout",
     "output_type": "stream",
     "text": [
      "tf.Tensor(\n",
      "[[-3.2831624  3.4376247]\n",
      " [ 4.2140603 -3.4158013]], shape=(2, 2), dtype=float32)\n"
     ]
    }
   ],
   "source": [
    "print(outputs.logits)"
   ]
  },
  {
   "cell_type": "code",
   "execution_count": 8,
   "id": "e991b61e",
   "metadata": {},
   "outputs": [
    {
     "name": "stdout",
     "output_type": "stream",
     "text": [
      "tf.Tensor(\n",
      "[[1.2041373e-03 9.9879587e-01]\n",
      " [9.9951446e-01 4.8549214e-04]], shape=(2, 2), dtype=float32)\n"
     ]
    }
   ],
   "source": [
    "## Those are not probabilities but logits, the raw, unnormalized scores outputted by the last layer of the model. To be converted to probabilities, they need to go through a SoftMax layer\n",
    "\n",
    "import tensorflow as tf\n",
    "predictions = tf.math.softmax(outputs.logits, axis=-1)\n",
    "print(predictions)"
   ]
  },
  {
   "cell_type": "code",
   "execution_count": 9,
   "id": "c3a2517f",
   "metadata": {},
   "outputs": [
    {
     "data": {
      "text/plain": [
       "{0: 'NEGATIVE', 1: 'POSITIVE'}"
      ]
     },
     "execution_count": 9,
     "metadata": {},
     "output_type": "execute_result"
    }
   ],
   "source": [
    "model.config.id2label"
   ]
  },
  {
   "cell_type": "markdown",
   "id": "e755488c",
   "metadata": {},
   "source": [
    "## 3.Models"
   ]
  },
  {
   "cell_type": "code",
   "execution_count": 10,
   "id": "19f3a9f8",
   "metadata": {
    "collapsed": true
   },
   "outputs": [
    {
     "name": "stdout",
     "output_type": "stream",
     "text": [
      "BertConfig {\n",
      "  \"attention_probs_dropout_prob\": 0.1,\n",
      "  \"classifier_dropout\": null,\n",
      "  \"hidden_act\": \"gelu\",\n",
      "  \"hidden_dropout_prob\": 0.1,\n",
      "  \"hidden_size\": 768,\n",
      "  \"initializer_range\": 0.02,\n",
      "  \"intermediate_size\": 3072,\n",
      "  \"layer_norm_eps\": 1e-12,\n",
      "  \"max_position_embeddings\": 512,\n",
      "  \"model_type\": \"bert\",\n",
      "  \"num_attention_heads\": 12,\n",
      "  \"num_hidden_layers\": 12,\n",
      "  \"pad_token_id\": 0,\n",
      "  \"position_embedding_type\": \"absolute\",\n",
      "  \"transformers_version\": \"4.32.1\",\n",
      "  \"type_vocab_size\": 2,\n",
      "  \"use_cache\": true,\n",
      "  \"vocab_size\": 30522\n",
      "}\n",
      "\n"
     ]
    }
   ],
   "source": [
    "# Creating a transformer\n",
    "from transformers import BertConfig, TFBertModel\n",
    "\n",
    "# Building the config\n",
    "config = BertConfig()\n",
    "\n",
    "# Building the model from the config\n",
    "# In this way of Creating a model from the default configuration initializes it with random values\n",
    "# The model can be used in this state, but it will output gibberish; it needs to be trained first.\n",
    "model = TFBertModel(config)\n",
    "\n",
    "# The configuration contains many attributes that are used to build the model\n",
    "print(config)"
   ]
  },
  {
   "cell_type": "code",
   "execution_count": null,
   "id": "656095e5",
   "metadata": {},
   "outputs": [],
   "source": [
    "# Loading a Transformer model that is already trained\n",
    "from transformers import TFBertModel\n",
    "model = TFBertModel.from_pretrained(\"bert-base-cased\")\n"
   ]
  }
 ],
 "metadata": {
  "kernelspec": {
   "display_name": "Python 3 (ipykernel)",
   "language": "python",
   "name": "python3"
  },
  "language_info": {
   "codemirror_mode": {
    "name": "ipython",
    "version": 3
   },
   "file_extension": ".py",
   "mimetype": "text/x-python",
   "name": "python",
   "nbconvert_exporter": "python",
   "pygments_lexer": "ipython3",
   "version": "3.11.4"
  }
 },
 "nbformat": 4,
 "nbformat_minor": 5
}
